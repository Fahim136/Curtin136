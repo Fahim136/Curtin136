{
  "nbformat": 4,
  "nbformat_minor": 0,
  "metadata": {
    "colab": {
      "provenance": [],
      "authorship_tag": "ABX9TyMkB3j8JLQM5gRloI1yjH69",
      "include_colab_link": true
    },
    "kernelspec": {
      "name": "python3",
      "display_name": "Python 3"
    },
    "language_info": {
      "name": "python"
    }
  },
  "cells": [
    {
      "cell_type": "markdown",
      "metadata": {
        "id": "view-in-github",
        "colab_type": "text"
      },
      "source": [
        "<a href=\"https://colab.research.google.com/github/Fahim136/Curtin136/blob/main/01_01_My_first_python_notebook.ipynb\" target=\"_parent\"><img src=\"https://colab.research.google.com/assets/colab-badge.svg\" alt=\"Open In Colab\"/></a>"
      ]
    },
    {
      "cell_type": "markdown",
      "source": [
        "My First Python Notebook\n"
      ],
      "metadata": {
        "id": "JPg4UcK5K1sD"
      }
    },
    {
      "cell_type": "code",
      "execution_count": null,
      "metadata": {
        "id": "M4C9KkyhJOck",
        "colab": {
          "base_uri": "https://localhost:8080/"
        },
        "outputId": "ff4dce70-c217-41c0-c04d-673b0f699da6"
      },
      "outputs": [
        {
          "output_type": "stream",
          "name": "stdout",
          "text": [
            "This is my first python class \n"
          ]
        }
      ],
      "source": [
        "print(\"This is my first python class \")"
      ]
    }
  ]
}
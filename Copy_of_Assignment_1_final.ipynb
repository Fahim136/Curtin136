{
  "nbformat": 4,
  "nbformat_minor": 0,
  "metadata": {
    "colab": {
      "provenance": [],
      "authorship_tag": "ABX9TyOgBI6K3vcwZUsjlskz1IPc",
      "include_colab_link": true
    },
    "kernelspec": {
      "name": "python3",
      "display_name": "Python 3"
    },
    "language_info": {
      "name": "python"
    }
  },
  "cells": [
    {
      "cell_type": "markdown",
      "metadata": {
        "id": "view-in-github",
        "colab_type": "text"
      },
      "source": [
        "<a href=\"https://colab.research.google.com/github/Fahim136/Curtin136/blob/main/Copy_of_Assignment_1_final.ipynb\" target=\"_parent\"><img src=\"https://colab.research.google.com/assets/colab-badge.svg\" alt=\"Open In Colab\"/></a>"
      ]
    },
    {
      "cell_type": "code",
      "source": [
        "import matplotlib.pyplot as plt\n"
      ],
      "metadata": {
        "id": "WWJFkNtXgf3i"
      },
      "execution_count": 1,
      "outputs": []
    },
    {
      "cell_type": "code",
      "execution_count": null,
      "metadata": {
        "colab": {
          "base_uri": "https://localhost:8080/"
        },
        "id": "EneJtnUufnnU",
        "outputId": "ba3b4310-8dc2-4ea9-f80c-ff26c7b48e58"
      },
      "outputs": [
        {
          "output_type": "stream",
          "name": "stdout",
          "text": [
            "Enter data for month 1:\n"
          ]
        }
      ],
      "source": [
        "class EnergyConsumptionAnalysisTool:\n",
        "    def __init__(self):\n",
        "        self.data = []\n",
        "\n",
        "    def input_data(self):\n",
        "        for month in range(1, 13):\n",
        "            print(f\"Enter data for month {month}:\")\n",
        "            electricity = float(input(\"Electricity usage (kWh): \"))\n",
        "            gas = float(input(\"Gas usage (cubic meters): \"))\n",
        "            water = float(input(\"Water usage (cubic meters): \"))\n",
        "            self.data.append({'Month': month, 'Electricity': electricity, 'Gas': gas, 'Water': water})\n",
        "\n",
        "    def monthly_consumption(self):\n",
        "        months = [entry['Month'] for entry in self.data]\n",
        "        electricity = [entry['Electricity'] for entry in self.data]\n",
        "        gas = [entry['Gas'] for entry in self.data]\n",
        "        water = [entry['Water'] for entry in self.data]\n",
        "\n",
        "        plt.plot(months, electricity, label='Electricity')\n",
        "        plt.plot(months, gas, label='Gas')\n",
        "        plt.plot(months, water, label='Water')\n",
        "        plt.xlabel('Month')\n",
        "        plt.ylabel('Consumption')\n",
        "        plt.title('Monthly Consumption')\n",
        "        plt.legend()\n",
        "        plt.show()\n",
        "\n",
        "    def compare_energy_types(self):\n",
        "        total_electricity = sum(entry['Electricity'] for entry in self.data)\n",
        "        total_gas = sum(entry['Gas'] for entry in self.data)\n",
        "        total_water = sum(entry['Water'] for entry in self.data)\n",
        "\n",
        "        labels = ['Electricity', 'Gas', 'Water']\n",
        "        sizes = [total_electricity, total_gas, total_water]\n",
        "\n",
        "        plt.pie(sizes, labels=labels, autopct='%1.1f%%')\n",
        "        plt.title('Comparison of Energy Types by Consumption')\n",
        "        plt.show()\n",
        "\n",
        "    def annual_total_consumption_breakdown(self):\n",
        "        total_electricity = sum(entry['Electricity'] for entry in self.data)\n",
        "        total_gas = sum(entry['Gas'] for entry in self.data)\n",
        "        total_water = sum(entry['Water'] for entry in self.data)\n",
        "\n",
        "        labels = ['Electricity', 'Gas', 'Water']\n",
        "        sizes = [total_electricity, total_gas, total_water]\n",
        "\n",
        "        plt.bar(labels, sizes)\n",
        "        plt.xlabel('Energy Type')\n",
        "        plt.ylabel('Total Consumption')\n",
        "        plt.title('Annual Total Consumption Breakdown by Energy Type')\n",
        "        plt.show()\n",
        "\n",
        "    def run(self):\n",
        "        self.input_data()\n",
        "\n",
        "        while True:\n",
        "            print(\"\\nAnalysis Options:\")\n",
        "            print(\"1. Monthly Consumption Trends\")\n",
        "            print(\"2. Comparison of Energy Types by Consumption\")\n",
        "            print(\"3. Annual Total Consumption Breakdown by Energy Type\")\n",
        "            print(\"4. Exit\")\n",
        "\n",
        "            choice = input(\"Enter your choice (1-4): \")\n",
        "\n",
        "            if choice == '1':\n",
        "                self.monthly_consumption()\n",
        "            elif choice == '2':\n",
        "                self.compare_energy_types()\n",
        "            elif choice == '3':\n",
        "                self.annual_total_consumption_breakdown()\n",
        "            elif choice == '4':\n",
        "                print(\"Exiting...\")\n",
        "                break\n",
        "            else:\n",
        "                print(\"Invalid choice. Please enter a number between 1 and 4.\")\n",
        "\n",
        "\n",
        "if __name__ == \"__main__\":\n",
        "    analysis_tool = EnergyConsumptionAnalysisTool()\n",
        "    analysis_tool.run()"
      ]
    }
  ]
}